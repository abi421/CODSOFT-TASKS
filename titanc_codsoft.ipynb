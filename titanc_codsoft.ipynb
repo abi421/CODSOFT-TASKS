{
  "nbformat": 4,
  "nbformat_minor": 0,
  "metadata": {
    "colab": {
      "provenance": [],
      "toc_visible": true
    },
    "kernelspec": {
      "name": "python3",
      "display_name": "Python 3"
    },
    "language_info": {
      "name": "python"
    }
  },
  "cells": [
    {
      "cell_type": "markdown",
      "source": [
        "#CODSOFT INTERNSHIP\n",
        "TASK 1:PREDICTING TITANIC SURVIVAL\n",
        "\n",
        "AUTHOR:ABINAYA.K\n",
        "\n",
        "FIELD:DATASCIENCE\n",
        "\n",
        "BATCH:SEPTEMBER\n",
        "\n",
        "Aim:\n",
        "The objective of this project is to build a predictive model using the Titanic dataset that can classify whether a passenger survived the Titanic disaster or not, based on various factors such as their age, gender, passenger class, fare, number of siblings/spouses aboard, and port of embarkation. This project aims to explore and apply fundamental data science techniques including data preprocessing, feature engineering, model building, and evaluation using machine learning algorithms."
      ],
      "metadata": {
        "id": "A2oUlt8PR2yb"
      }
    },
    {
      "cell_type": "markdown",
      "source": [
        "1.Loading and preparing data"
      ],
      "metadata": {
        "id": "q_3uej1zbgNH"
      }
    },
    {
      "cell_type": "code",
      "source": [
        "import pandas as pd\n",
        "\n",
        "# Load the dataset\n",
        "titanic_df = pd.read_csv('/content/sample_data/Titanic-Dataset (1).csv')\n",
        "\n",
        "# Drop irrelevant columns\n",
        "titanic_df = titanic_df.drop(columns=[\"Name\", \"Ticket\", \"Cabin\", \"PassengerId\"])\n",
        "\n",
        "# Convert \"Sex\" to numeric values\n",
        "titanic_df[\"Sex\"] = titanic_df[\"Sex\"].map({\"male\": 0, \"female\": 1})\n",
        "\n",
        "# Handle missing values in \"Embarked\" with the most common value\n",
        "titanic_df[\"Embarked\"] = titanic_df[\"Embarked\"].fillna(titanic_df[\"Embarked\"].mode()[0], inplace=True)\n",
        "\n",
        "# Define features and target variable\n",
        "X = titanic_df.drop(columns=[\"Survived\"])\n",
        "y = titanic_df[\"Survived\"]\n",
        "\n",
        "# Display the first few rows of the dataset\n",
        "print(titanic_df.head())\n",
        "\n",
        "\n",
        "\n"
      ],
      "metadata": {
        "colab": {
          "base_uri": "https://localhost:8080/"
        },
        "id": "yshYAqEKU_Iu",
        "outputId": "150aaa28-a0c5-4b11-89a5-1ae58958c084"
      },
      "execution_count": 15,
      "outputs": [
        {
          "output_type": "stream",
          "name": "stdout",
          "text": [
            "   Survived  Pclass  Sex   Age  SibSp  Parch     Fare Embarked\n",
            "0         0       3    0  22.0      1      0   7.2500     None\n",
            "1         1       1    1  38.0      1      0  71.2833     None\n",
            "2         1       3    1  26.0      0      0   7.9250     None\n",
            "3         1       1    1  35.0      1      0  53.1000     None\n",
            "4         0       3    0  35.0      0      0   8.0500     None\n"
          ]
        },
        {
          "output_type": "stream",
          "name": "stderr",
          "text": [
            "<ipython-input-15-51f93474cbf1>:13: FutureWarning: A value is trying to be set on a copy of a DataFrame or Series through chained assignment using an inplace method.\n",
            "The behavior will change in pandas 3.0. This inplace method will never work because the intermediate object on which we are setting values always behaves as a copy.\n",
            "\n",
            "For example, when doing 'df[col].method(value, inplace=True)', try using 'df.method({col: value}, inplace=True)' or df[col] = df[col].method(value) instead, to perform the operation inplace on the original object.\n",
            "\n",
            "\n",
            "  titanic_df[\"Embarked\"] = titanic_df[\"Embarked\"].fillna(titanic_df[\"Embarked\"].mode()[0], inplace=True)\n"
          ]
        }
      ]
    },
    {
      "cell_type": "markdown",
      "source": [
        "2.Define Preprocessing model"
      ],
      "metadata": {
        "id": "Hxiq3bwfcES-"
      }
    },
    {
      "cell_type": "code",
      "source": [
        "from sklearn.preprocessing import StandardScaler, OneHotEncoder\n",
        "from sklearn.compose import ColumnTransformer\n",
        "from sklearn.pipeline import Pipeline\n",
        "from sklearn.impute import SimpleImputer\n",
        "from sklearn.linear_model import LogisticRegression\n",
        "\n",
        "# Define preprocessing for numeric and categorical features\n",
        "numeric_features = ['Age', 'SibSp', 'Parch', 'Fare']\n",
        "categorical_features = ['Pclass', 'Sex', 'Embarked']\n",
        "\n",
        "# Preprocessing pipeline for numeric features\n",
        "numeric_transformer = Pipeline(steps=[\n",
        "    ('imputer', SimpleImputer(strategy='median')),  # Handle missing values in numeric columns\n",
        "    ('scaler', StandardScaler())  # Scale numeric columns\n",
        "])\n",
        "\n",
        "# Preprocessing pipeline for categorical features\n",
        "categorical_transformer = Pipeline(steps=[\n",
        "    ('imputer', SimpleImputer(strategy='constant', fill_value='missing')),  # Handle missing values in categorical columns\n",
        "    ('onehot', OneHotEncoder(handle_unknown='ignore'))  # One-hot encode categorical columns\n",
        "])\n",
        "\n",
        "# Combine preprocessing steps for numeric and categorical data\n",
        "preprocessor = ColumnTransformer(\n",
        "    transformers=[\n",
        "        ('num', numeric_transformer, numeric_features),\n",
        "        ('cat', categorical_transformer, categorical_features)\n",
        "    ])\n",
        "\n",
        "# Define the model pipeline\n",
        "model = Pipeline(steps=[\n",
        "    ('preprocessor', preprocessor),  # Apply preprocessing\n",
        "    ('classifier', LogisticRegression(max_iter=1000))  # Use Logistic Regression as classifier\n",
        "])\n",
        "\n"
      ],
      "metadata": {
        "id": "Sjk3pDHGZKC3"
      },
      "execution_count": 17,
      "outputs": []
    },
    {
      "cell_type": "markdown",
      "source": [
        "3.Splitting Data and train"
      ],
      "metadata": {
        "id": "mho94s5AbBzR"
      }
    },
    {
      "cell_type": "code",
      "source": [
        "from sklearn.model_selection import train_test_split\n",
        "from sklearn.metrics import accuracy_score\n",
        "\n",
        "# Define features (X) and target (y)\n",
        "X = titanic_df.drop('Survived', axis=1)  # Features\n",
        "y = titanic_df['Survived']  # Target variable\n",
        "\n",
        "# Split the data into training and testing sets (80% train, 20% test)\n",
        "X_train, X_test, y_train, y_test = train_test_split(X, y, test_size=0.2, random_state=42)\n",
        "\n",
        "# Train the model\n",
        "model.fit(X_train, y_train)\n",
        "\n",
        "# Make predictions on the test set\n",
        "y_pred = model.predict(X_test)\n",
        "\n",
        "# Evaluate the model's accuracy\n",
        "accuracy = accuracy_score(y_test, y_pred)\n",
        "print(f'Model accuracy: {accuracy:.2f}')\n"
      ],
      "metadata": {
        "colab": {
          "base_uri": "https://localhost:8080/"
        },
        "id": "yroB_k7fbIOm",
        "outputId": "b9913e61-1d4f-4a9a-e122-652114a85d64"
      },
      "execution_count": 18,
      "outputs": [
        {
          "output_type": "stream",
          "name": "stdout",
          "text": [
            "Model accuracy: 0.80\n"
          ]
        }
      ]
    },
    {
      "cell_type": "markdown",
      "source": [
        "4.VISUALIZATION"
      ],
      "metadata": {
        "id": "D2bRd_OrbunZ"
      }
    },
    {
      "cell_type": "code",
      "source": [
        "from sklearn.metrics import roc_curve, auc\n",
        "import matplotlib.pyplot as plt\n",
        "\n",
        "# Compute ROC curve\n",
        "fpr, tpr, thresholds = roc_curve(y_test, model.predict_proba(X_test)[:,1])\n",
        "roc_auc = auc(fpr, tpr)\n",
        "\n",
        "# Plot ROC curve\n",
        "plt.figure()\n",
        "plt.plot(fpr, tpr, color='PINK', label=f'ROC curve (area = {roc_auc:.2f})')\n",
        "plt.plot([0, 1], [0, 1], color='navy', linestyle='--')\n",
        "plt.xlabel('False Positive Rate')\n",
        "plt.ylabel('True Positive Rate')\n",
        "plt.title('Receiver Operating Characteristic')\n",
        "plt.legend(loc='lower right')\n",
        "plt.show()\n"
      ],
      "metadata": {
        "colab": {
          "base_uri": "https://localhost:8080/",
          "height": 472
        },
        "id": "9NjwxRjZb-R3",
        "outputId": "4c087991-b308-4134-bbaf-a9e19bac38bd"
      },
      "execution_count": 20,
      "outputs": [
        {
          "output_type": "display_data",
          "data": {
            "text/plain": [
              "<Figure size 640x480 with 1 Axes>"
            ],
            "image/png": "[encoded data removed]"
          },
          "metadata": {}
        }
      ]
    }
  ]
}